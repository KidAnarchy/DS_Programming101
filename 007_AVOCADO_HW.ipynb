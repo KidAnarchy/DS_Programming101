{
 "cells": [
  {
   "cell_type": "markdown",
   "metadata": {},
   "source": [
    "# AVOCADO Price data "
   ]
  },
  {
   "cell_type": "code",
   "execution_count": 1,
   "metadata": {},
   "outputs": [],
   "source": [
    "# Import Important Library\n",
    "import pandas as pd\n",
    "import numpy as np"
   ]
  },
  {
   "cell_type": "code",
   "execution_count": 2,
   "metadata": {},
   "outputs": [],
   "source": [
    "data = pd.read_csv(\"avocado.csv\")"
   ]
  },
  {
   "cell_type": "code",
   "execution_count": 3,
   "metadata": {},
   "outputs": [],
   "source": [
    "data = data.drop(columns=['Unnamed: 0','type'])\n",
    "data[\"Total_lot\"] = ((data[\"4046\"] + data[\"4225\"] + data[\"4770\"]))\n",
    "data[\"Income\"] = ((data[\"AveragePrice\"] * data[\"Total Volume\"]))\n",
    "data['month'] = pd.DatetimeIndex(data['Date']).month\n",
    "data = data.replace({\"month\":{\n",
    "    1 : \"1.January\",\n",
    "    2 : \"2.Febuary\",\n",
    "    3 : \"3.March\",\n",
    "    4 : \"4.April\",\n",
    "    5 : \"5.May\",\n",
    "    6 : \"6.June\",\n",
    "    7 : \"7.July\",\n",
    "    8 : \"8.August\",\n",
    "    9 : \"9.September\",\n",
    "    10 : \"10.October\",\n",
    "    11 : \"11.November\",\n",
    "    12 : \"12.December\"\n",
    "}})"
   ]
  },
  {
   "cell_type": "code",
   "execution_count": 4,
   "metadata": {},
   "outputs": [],
   "source": [
    "data = data[['region','year','month','Date', 'AveragePrice','Income','Total Volume','Total_lot', '4046', '4225', '4770',\n",
    "       'Total Bags', 'Small Bags', 'Large Bags', 'XLarge Bags']]"
   ]
  },
  {
   "cell_type": "code",
   "execution_count": 5,
   "metadata": {},
   "outputs": [],
   "source": [
    "data = data.drop(columns=['Date'])"
   ]
  },
  {
   "cell_type": "code",
   "execution_count": 6,
   "metadata": {},
   "outputs": [
    {
     "data": {
      "text/html": [
       "<div>\n",
       "<style scoped>\n",
       "    .dataframe tbody tr th:only-of-type {\n",
       "        vertical-align: middle;\n",
       "    }\n",
       "\n",
       "    .dataframe tbody tr th {\n",
       "        vertical-align: top;\n",
       "    }\n",
       "\n",
       "    .dataframe thead th {\n",
       "        text-align: right;\n",
       "    }\n",
       "</style>\n",
       "<table border=\"1\" class=\"dataframe\">\n",
       "  <thead>\n",
       "    <tr style=\"text-align: right;\">\n",
       "      <th></th>\n",
       "      <th>region</th>\n",
       "      <th>year</th>\n",
       "      <th>month</th>\n",
       "      <th>AveragePrice</th>\n",
       "      <th>Income</th>\n",
       "      <th>Total Volume</th>\n",
       "      <th>Total_lot</th>\n",
       "      <th>4046</th>\n",
       "      <th>4225</th>\n",
       "      <th>4770</th>\n",
       "      <th>Total Bags</th>\n",
       "      <th>Small Bags</th>\n",
       "      <th>Large Bags</th>\n",
       "      <th>XLarge Bags</th>\n",
       "    </tr>\n",
       "  </thead>\n",
       "  <tbody>\n",
       "    <tr>\n",
       "      <th>0</th>\n",
       "      <td>Albany</td>\n",
       "      <td>2015</td>\n",
       "      <td>12.December</td>\n",
       "      <td>1.33</td>\n",
       "      <td>85434.7046</td>\n",
       "      <td>64236.62</td>\n",
       "      <td>55539.75</td>\n",
       "      <td>1036.74</td>\n",
       "      <td>54454.85</td>\n",
       "      <td>48.16</td>\n",
       "      <td>8696.87</td>\n",
       "      <td>8603.62</td>\n",
       "      <td>93.25</td>\n",
       "      <td>0.0</td>\n",
       "    </tr>\n",
       "    <tr>\n",
       "      <th>1</th>\n",
       "      <td>Albany</td>\n",
       "      <td>2015</td>\n",
       "      <td>12.December</td>\n",
       "      <td>1.35</td>\n",
       "      <td>74083.9230</td>\n",
       "      <td>54876.98</td>\n",
       "      <td>45371.42</td>\n",
       "      <td>674.28</td>\n",
       "      <td>44638.81</td>\n",
       "      <td>58.33</td>\n",
       "      <td>9505.56</td>\n",
       "      <td>9408.07</td>\n",
       "      <td>97.49</td>\n",
       "      <td>0.0</td>\n",
       "    </tr>\n",
       "    <tr>\n",
       "      <th>2</th>\n",
       "      <td>Albany</td>\n",
       "      <td>2015</td>\n",
       "      <td>12.December</td>\n",
       "      <td>0.93</td>\n",
       "      <td>109944.8046</td>\n",
       "      <td>118220.22</td>\n",
       "      <td>110074.87</td>\n",
       "      <td>794.70</td>\n",
       "      <td>109149.67</td>\n",
       "      <td>130.50</td>\n",
       "      <td>8145.35</td>\n",
       "      <td>8042.21</td>\n",
       "      <td>103.14</td>\n",
       "      <td>0.0</td>\n",
       "    </tr>\n",
       "    <tr>\n",
       "      <th>3</th>\n",
       "      <td>Albany</td>\n",
       "      <td>2015</td>\n",
       "      <td>12.December</td>\n",
       "      <td>1.08</td>\n",
       "      <td>85311.5220</td>\n",
       "      <td>78992.15</td>\n",
       "      <td>73180.99</td>\n",
       "      <td>1132.00</td>\n",
       "      <td>71976.41</td>\n",
       "      <td>72.58</td>\n",
       "      <td>5811.16</td>\n",
       "      <td>5677.40</td>\n",
       "      <td>133.76</td>\n",
       "      <td>0.0</td>\n",
       "    </tr>\n",
       "    <tr>\n",
       "      <th>4</th>\n",
       "      <td>Albany</td>\n",
       "      <td>2015</td>\n",
       "      <td>11.November</td>\n",
       "      <td>1.28</td>\n",
       "      <td>65330.6880</td>\n",
       "      <td>51039.60</td>\n",
       "      <td>44855.65</td>\n",
       "      <td>941.48</td>\n",
       "      <td>43838.39</td>\n",
       "      <td>75.78</td>\n",
       "      <td>6183.95</td>\n",
       "      <td>5986.26</td>\n",
       "      <td>197.69</td>\n",
       "      <td>0.0</td>\n",
       "    </tr>\n",
       "    <tr>\n",
       "      <th>5</th>\n",
       "      <td>Albany</td>\n",
       "      <td>2015</td>\n",
       "      <td>11.November</td>\n",
       "      <td>1.26</td>\n",
       "      <td>70534.5228</td>\n",
       "      <td>55979.78</td>\n",
       "      <td>49295.87</td>\n",
       "      <td>1184.27</td>\n",
       "      <td>48067.99</td>\n",
       "      <td>43.61</td>\n",
       "      <td>6683.91</td>\n",
       "      <td>6556.47</td>\n",
       "      <td>127.44</td>\n",
       "      <td>0.0</td>\n",
       "    </tr>\n",
       "    <tr>\n",
       "      <th>6</th>\n",
       "      <td>Albany</td>\n",
       "      <td>2015</td>\n",
       "      <td>11.November</td>\n",
       "      <td>0.99</td>\n",
       "      <td>82619.2224</td>\n",
       "      <td>83453.76</td>\n",
       "      <td>75134.90</td>\n",
       "      <td>1368.92</td>\n",
       "      <td>73672.72</td>\n",
       "      <td>93.26</td>\n",
       "      <td>8318.86</td>\n",
       "      <td>8196.81</td>\n",
       "      <td>122.05</td>\n",
       "      <td>0.0</td>\n",
       "    </tr>\n",
       "    <tr>\n",
       "      <th>7</th>\n",
       "      <td>Albany</td>\n",
       "      <td>2015</td>\n",
       "      <td>11.November</td>\n",
       "      <td>0.98</td>\n",
       "      <td>107239.7634</td>\n",
       "      <td>109428.33</td>\n",
       "      <td>102599.11</td>\n",
       "      <td>703.75</td>\n",
       "      <td>101815.36</td>\n",
       "      <td>80.00</td>\n",
       "      <td>6829.22</td>\n",
       "      <td>6266.85</td>\n",
       "      <td>562.37</td>\n",
       "      <td>0.0</td>\n",
       "    </tr>\n",
       "    <tr>\n",
       "      <th>8</th>\n",
       "      <td>Albany</td>\n",
       "      <td>2015</td>\n",
       "      <td>11.November</td>\n",
       "      <td>1.02</td>\n",
       "      <td>101807.6484</td>\n",
       "      <td>99811.42</td>\n",
       "      <td>88423.06</td>\n",
       "      <td>1022.15</td>\n",
       "      <td>87315.57</td>\n",
       "      <td>85.34</td>\n",
       "      <td>11388.36</td>\n",
       "      <td>11104.53</td>\n",
       "      <td>283.83</td>\n",
       "      <td>0.0</td>\n",
       "    </tr>\n",
       "    <tr>\n",
       "      <th>9</th>\n",
       "      <td>Albany</td>\n",
       "      <td>2015</td>\n",
       "      <td>10.October</td>\n",
       "      <td>1.07</td>\n",
       "      <td>79542.4732</td>\n",
       "      <td>74338.76</td>\n",
       "      <td>65712.84</td>\n",
       "      <td>842.40</td>\n",
       "      <td>64757.44</td>\n",
       "      <td>113.00</td>\n",
       "      <td>8625.92</td>\n",
       "      <td>8061.47</td>\n",
       "      <td>564.45</td>\n",
       "      <td>0.0</td>\n",
       "    </tr>\n",
       "  </tbody>\n",
       "</table>\n",
       "</div>"
      ],
      "text/plain": [
       "   region  year        month  AveragePrice       Income  Total Volume  \\\n",
       "0  Albany  2015  12.December          1.33   85434.7046      64236.62   \n",
       "1  Albany  2015  12.December          1.35   74083.9230      54876.98   \n",
       "2  Albany  2015  12.December          0.93  109944.8046     118220.22   \n",
       "3  Albany  2015  12.December          1.08   85311.5220      78992.15   \n",
       "4  Albany  2015  11.November          1.28   65330.6880      51039.60   \n",
       "5  Albany  2015  11.November          1.26   70534.5228      55979.78   \n",
       "6  Albany  2015  11.November          0.99   82619.2224      83453.76   \n",
       "7  Albany  2015  11.November          0.98  107239.7634     109428.33   \n",
       "8  Albany  2015  11.November          1.02  101807.6484      99811.42   \n",
       "9  Albany  2015   10.October          1.07   79542.4732      74338.76   \n",
       "\n",
       "   Total_lot     4046       4225    4770  Total Bags  Small Bags  Large Bags  \\\n",
       "0   55539.75  1036.74   54454.85   48.16     8696.87     8603.62       93.25   \n",
       "1   45371.42   674.28   44638.81   58.33     9505.56     9408.07       97.49   \n",
       "2  110074.87   794.70  109149.67  130.50     8145.35     8042.21      103.14   \n",
       "3   73180.99  1132.00   71976.41   72.58     5811.16     5677.40      133.76   \n",
       "4   44855.65   941.48   43838.39   75.78     6183.95     5986.26      197.69   \n",
       "5   49295.87  1184.27   48067.99   43.61     6683.91     6556.47      127.44   \n",
       "6   75134.90  1368.92   73672.72   93.26     8318.86     8196.81      122.05   \n",
       "7  102599.11   703.75  101815.36   80.00     6829.22     6266.85      562.37   \n",
       "8   88423.06  1022.15   87315.57   85.34    11388.36    11104.53      283.83   \n",
       "9   65712.84   842.40   64757.44  113.00     8625.92     8061.47      564.45   \n",
       "\n",
       "   XLarge Bags  \n",
       "0          0.0  \n",
       "1          0.0  \n",
       "2          0.0  \n",
       "3          0.0  \n",
       "4          0.0  \n",
       "5          0.0  \n",
       "6          0.0  \n",
       "7          0.0  \n",
       "8          0.0  \n",
       "9          0.0  "
      ]
     },
     "execution_count": 6,
     "metadata": {},
     "output_type": "execute_result"
    }
   ],
   "source": [
    "data.head(10)"
   ]
  },
  {
   "cell_type": "code",
   "execution_count": 38,
   "metadata": {},
   "outputs": [
    {
     "name": "stdout",
     "output_type": "stream",
     "text": [
      "<class 'pandas.core.frame.DataFrame'>\n",
      "RangeIndex: 18249 entries, 0 to 18248\n",
      "Data columns (total 14 columns):\n",
      " #   Column        Non-Null Count  Dtype  \n",
      "---  ------        --------------  -----  \n",
      " 0   region        18249 non-null  object \n",
      " 1   year          18249 non-null  int64  \n",
      " 2   month         18249 non-null  object \n",
      " 3   AveragePrice  18249 non-null  float64\n",
      " 4   Income        18249 non-null  float64\n",
      " 5   Total Volume  18249 non-null  float64\n",
      " 6   Total_lot     18249 non-null  float64\n",
      " 7   4046          18249 non-null  float64\n",
      " 8   4225          18249 non-null  float64\n",
      " 9   4770          18249 non-null  float64\n",
      " 10  Total Bags    18249 non-null  float64\n",
      " 11  Small Bags    18249 non-null  float64\n",
      " 12  Large Bags    18249 non-null  float64\n",
      " 13  XLarge Bags   18249 non-null  float64\n",
      "dtypes: float64(11), int64(1), object(2)\n",
      "memory usage: 1.9+ MB\n"
     ]
    }
   ],
   "source": [
    "data.info()"
   ]
  },
  {
   "cell_type": "code",
   "execution_count": 39,
   "metadata": {},
   "outputs": [
    {
     "data": {
      "text/html": [
       "<div>\n",
       "<style scoped>\n",
       "    .dataframe tbody tr th:only-of-type {\n",
       "        vertical-align: middle;\n",
       "    }\n",
       "\n",
       "    .dataframe tbody tr th {\n",
       "        vertical-align: top;\n",
       "    }\n",
       "\n",
       "    .dataframe thead th {\n",
       "        text-align: right;\n",
       "    }\n",
       "</style>\n",
       "<table border=\"1\" class=\"dataframe\">\n",
       "  <thead>\n",
       "    <tr style=\"text-align: right;\">\n",
       "      <th></th>\n",
       "      <th>year</th>\n",
       "      <th>AveragePrice</th>\n",
       "      <th>Income</th>\n",
       "      <th>Total Volume</th>\n",
       "      <th>Total_lot</th>\n",
       "      <th>4046</th>\n",
       "      <th>4225</th>\n",
       "      <th>4770</th>\n",
       "      <th>Total Bags</th>\n",
       "      <th>Small Bags</th>\n",
       "      <th>Large Bags</th>\n",
       "      <th>XLarge Bags</th>\n",
       "    </tr>\n",
       "  </thead>\n",
       "  <tbody>\n",
       "    <tr>\n",
       "      <th>count</th>\n",
       "      <td>18249.000000</td>\n",
       "      <td>18249.000000</td>\n",
       "      <td>1.824900e+04</td>\n",
       "      <td>1.824900e+04</td>\n",
       "      <td>1.824900e+04</td>\n",
       "      <td>1.824900e+04</td>\n",
       "      <td>1.824900e+04</td>\n",
       "      <td>1.824900e+04</td>\n",
       "      <td>1.824900e+04</td>\n",
       "      <td>1.824900e+04</td>\n",
       "      <td>1.824900e+04</td>\n",
       "      <td>18249.000000</td>\n",
       "    </tr>\n",
       "    <tr>\n",
       "      <th>mean</th>\n",
       "      <td>2016.147899</td>\n",
       "      <td>1.405978</td>\n",
       "      <td>9.279484e+05</td>\n",
       "      <td>8.506440e+05</td>\n",
       "      <td>6.110027e+05</td>\n",
       "      <td>2.930084e+05</td>\n",
       "      <td>2.951546e+05</td>\n",
       "      <td>2.283974e+04</td>\n",
       "      <td>2.396392e+05</td>\n",
       "      <td>1.821947e+05</td>\n",
       "      <td>5.433809e+04</td>\n",
       "      <td>3106.426507</td>\n",
       "    </tr>\n",
       "    <tr>\n",
       "      <th>std</th>\n",
       "      <td>0.939938</td>\n",
       "      <td>0.402677</td>\n",
       "      <td>3.686048e+06</td>\n",
       "      <td>3.453545e+06</td>\n",
       "      <td>2.517799e+06</td>\n",
       "      <td>1.264989e+06</td>\n",
       "      <td>1.204120e+06</td>\n",
       "      <td>1.074641e+05</td>\n",
       "      <td>9.862424e+05</td>\n",
       "      <td>7.461785e+05</td>\n",
       "      <td>2.439660e+05</td>\n",
       "      <td>17692.894652</td>\n",
       "    </tr>\n",
       "    <tr>\n",
       "      <th>min</th>\n",
       "      <td>2015.000000</td>\n",
       "      <td>0.440000</td>\n",
       "      <td>1.344504e+02</td>\n",
       "      <td>8.456000e+01</td>\n",
       "      <td>2.000000e+00</td>\n",
       "      <td>0.000000e+00</td>\n",
       "      <td>0.000000e+00</td>\n",
       "      <td>0.000000e+00</td>\n",
       "      <td>0.000000e+00</td>\n",
       "      <td>0.000000e+00</td>\n",
       "      <td>0.000000e+00</td>\n",
       "      <td>0.000000</td>\n",
       "    </tr>\n",
       "    <tr>\n",
       "      <th>25%</th>\n",
       "      <td>2015.000000</td>\n",
       "      <td>1.100000</td>\n",
       "      <td>1.716418e+04</td>\n",
       "      <td>1.083858e+04</td>\n",
       "      <td>4.972720e+03</td>\n",
       "      <td>8.540700e+02</td>\n",
       "      <td>3.008780e+03</td>\n",
       "      <td>0.000000e+00</td>\n",
       "      <td>5.088640e+03</td>\n",
       "      <td>2.849420e+03</td>\n",
       "      <td>1.274700e+02</td>\n",
       "      <td>0.000000</td>\n",
       "    </tr>\n",
       "    <tr>\n",
       "      <th>50%</th>\n",
       "      <td>2016.000000</td>\n",
       "      <td>1.370000</td>\n",
       "      <td>1.395298e+05</td>\n",
       "      <td>1.073768e+05</td>\n",
       "      <td>5.819536e+04</td>\n",
       "      <td>8.645300e+03</td>\n",
       "      <td>2.906102e+04</td>\n",
       "      <td>1.849900e+02</td>\n",
       "      <td>3.974383e+04</td>\n",
       "      <td>2.636282e+04</td>\n",
       "      <td>2.647710e+03</td>\n",
       "      <td>0.000000</td>\n",
       "    </tr>\n",
       "    <tr>\n",
       "      <th>75%</th>\n",
       "      <td>2017.000000</td>\n",
       "      <td>1.660000</td>\n",
       "      <td>5.141914e+05</td>\n",
       "      <td>4.329623e+05</td>\n",
       "      <td>3.078016e+05</td>\n",
       "      <td>1.110202e+05</td>\n",
       "      <td>1.502069e+05</td>\n",
       "      <td>6.243420e+03</td>\n",
       "      <td>1.107834e+05</td>\n",
       "      <td>8.333767e+04</td>\n",
       "      <td>2.202925e+04</td>\n",
       "      <td>132.500000</td>\n",
       "    </tr>\n",
       "    <tr>\n",
       "      <th>max</th>\n",
       "      <td>2018.000000</td>\n",
       "      <td>3.250000</td>\n",
       "      <td>5.437991e+07</td>\n",
       "      <td>6.250565e+07</td>\n",
       "      <td>4.473616e+07</td>\n",
       "      <td>2.274362e+07</td>\n",
       "      <td>2.047057e+07</td>\n",
       "      <td>2.546439e+06</td>\n",
       "      <td>1.937313e+07</td>\n",
       "      <td>1.338459e+07</td>\n",
       "      <td>5.719097e+06</td>\n",
       "      <td>551693.650000</td>\n",
       "    </tr>\n",
       "  </tbody>\n",
       "</table>\n",
       "</div>"
      ],
      "text/plain": [
       "               year  AveragePrice        Income  Total Volume     Total_lot  \\\n",
       "count  18249.000000  18249.000000  1.824900e+04  1.824900e+04  1.824900e+04   \n",
       "mean    2016.147899      1.405978  9.279484e+05  8.506440e+05  6.110027e+05   \n",
       "std        0.939938      0.402677  3.686048e+06  3.453545e+06  2.517799e+06   \n",
       "min     2015.000000      0.440000  1.344504e+02  8.456000e+01  2.000000e+00   \n",
       "25%     2015.000000      1.100000  1.716418e+04  1.083858e+04  4.972720e+03   \n",
       "50%     2016.000000      1.370000  1.395298e+05  1.073768e+05  5.819536e+04   \n",
       "75%     2017.000000      1.660000  5.141914e+05  4.329623e+05  3.078016e+05   \n",
       "max     2018.000000      3.250000  5.437991e+07  6.250565e+07  4.473616e+07   \n",
       "\n",
       "               4046          4225          4770    Total Bags    Small Bags  \\\n",
       "count  1.824900e+04  1.824900e+04  1.824900e+04  1.824900e+04  1.824900e+04   \n",
       "mean   2.930084e+05  2.951546e+05  2.283974e+04  2.396392e+05  1.821947e+05   \n",
       "std    1.264989e+06  1.204120e+06  1.074641e+05  9.862424e+05  7.461785e+05   \n",
       "min    0.000000e+00  0.000000e+00  0.000000e+00  0.000000e+00  0.000000e+00   \n",
       "25%    8.540700e+02  3.008780e+03  0.000000e+00  5.088640e+03  2.849420e+03   \n",
       "50%    8.645300e+03  2.906102e+04  1.849900e+02  3.974383e+04  2.636282e+04   \n",
       "75%    1.110202e+05  1.502069e+05  6.243420e+03  1.107834e+05  8.333767e+04   \n",
       "max    2.274362e+07  2.047057e+07  2.546439e+06  1.937313e+07  1.338459e+07   \n",
       "\n",
       "         Large Bags    XLarge Bags  \n",
       "count  1.824900e+04   18249.000000  \n",
       "mean   5.433809e+04    3106.426507  \n",
       "std    2.439660e+05   17692.894652  \n",
       "min    0.000000e+00       0.000000  \n",
       "25%    1.274700e+02       0.000000  \n",
       "50%    2.647710e+03       0.000000  \n",
       "75%    2.202925e+04     132.500000  \n",
       "max    5.719097e+06  551693.650000  "
      ]
     },
     "execution_count": 39,
     "metadata": {},
     "output_type": "execute_result"
    }
   ],
   "source": [
    "data.describe()"
   ]
  },
  {
   "cell_type": "markdown",
   "metadata": {},
   "source": [
    "### 1)Which region sold the largest amount of avocado ?"
   ]
  },
  {
   "cell_type": "code",
   "execution_count": 21,
   "metadata": {},
   "outputs": [
    {
     "data": {
      "text/plain": [
       "region\n",
       "Albany                 1.606780e+07\n",
       "Atlanta                8.860512e+07\n",
       "BaltimoreWashington    1.347139e+08\n",
       "Boise                  1.441319e+07\n",
       "Boston                 9.727398e+07\n",
       "BuffaloRochester       2.296247e+07\n",
       "California             1.028982e+09\n",
       "Charlotte              3.555554e+07\n",
       "Chicago                1.337023e+08\n",
       "CincinnatiDayton       4.452201e+07\n",
       "Columbus               2.999336e+07\n",
       "DallasFtWorth          2.084193e+08\n",
       "Denver                 1.389025e+08\n",
       "Detroit                6.342242e+07\n",
       "GrandRapids            3.021174e+07\n",
       "GreatLakes             5.896425e+08\n",
       "HarrisburgScranton     4.180886e+07\n",
       "HartfordSpringfield    5.067054e+07\n",
       "Houston                2.031679e+08\n",
       "Indianapolis           3.026339e+07\n",
       "Jacksonville           2.879000e+07\n",
       "LasVegas               5.437691e+07\n",
       "LosAngeles             5.078965e+08\n",
       "Louisville             1.609700e+07\n",
       "MiamiFtLauderdale      9.767322e+07\n",
       "Midsouth               5.083494e+08\n",
       "Nashville              3.561209e+07\n",
       "NewOrleansMobile       4.569514e+07\n",
       "NewYork                2.407341e+08\n",
       "Northeast              7.132809e+08\n",
       "NorthernNewEngland     7.153289e+07\n",
       "Orlando                5.866070e+07\n",
       "Philadelphia           7.183880e+07\n",
       "PhoenixTucson          1.956433e+08\n",
       "Pittsburgh             1.880635e+07\n",
       "Plains                 3.111885e+08\n",
       "Portland               1.105522e+08\n",
       "RaleighGreensboro      4.820273e+07\n",
       "RichmondNorfolk        4.223085e+07\n",
       "Roanoke                2.504201e+07\n",
       "Sacramento             7.516375e+07\n",
       "SanDiego               8.979192e+07\n",
       "SanFrancisco           1.358302e+08\n",
       "Seattle                1.092142e+08\n",
       "SouthCarolina          6.075377e+07\n",
       "SouthCentral           1.011280e+09\n",
       "Southeast              6.152384e+08\n",
       "Spokane                1.556528e+07\n",
       "StLouis                3.207283e+07\n",
       "Syracuse               1.094267e+07\n",
       "Tampa                  6.600454e+07\n",
       "TotalUS                5.864740e+09\n",
       "West                   1.086779e+09\n",
       "WestTexNewMexico       1.445218e+08\n",
       "Name: Total Volume, dtype: float64"
      ]
     },
     "execution_count": 21,
     "metadata": {},
     "output_type": "execute_result"
    }
   ],
   "source": [
    "data.groupby('region').sum()['Total Volume']\n",
    "# region: TotalUS"
   ]
  },
  {
   "cell_type": "code",
   "execution_count": 22,
   "metadata": {},
   "outputs": [
    {
     "data": {
      "text/plain": [
       "5864740181.800002"
      ]
     },
     "execution_count": 22,
     "metadata": {},
     "output_type": "execute_result"
    }
   ],
   "source": [
    "data.groupby('region').sum()['Total Volume'].max()\n",
    "# region: TotalUS"
   ]
  },
  {
   "cell_type": "markdown",
   "metadata": {},
   "source": [
    "### In this region, where the biggest lot of sold avocado came from (4046, 4225, 4770) ?"
   ]
  },
  {
   "cell_type": "code",
   "execution_count": 23,
   "metadata": {},
   "outputs": [
    {
     "data": {
      "text/plain": [
       "region\n",
       "Albany                 1.338755e+07\n",
       "Atlanta                6.004461e+07\n",
       "BaltimoreWashington    9.940777e+07\n",
       "Boise                  9.013777e+06\n",
       "Boston                 7.577851e+07\n",
       "BuffaloRochester       1.135172e+07\n",
       "California             7.822995e+08\n",
       "Charlotte              2.385760e+07\n",
       "Chicago                1.168369e+08\n",
       "CincinnatiDayton       2.362337e+07\n",
       "Columbus               1.997688e+07\n",
       "DallasFtWorth          1.619495e+08\n",
       "Denver                 7.994553e+07\n",
       "Detroit                3.916013e+07\n",
       "GrandRapids            2.104263e+07\n",
       "GreatLakes             4.110507e+08\n",
       "HarrisburgScranton     2.827960e+07\n",
       "HartfordSpringfield    3.933753e+07\n",
       "Houston                1.529528e+08\n",
       "Indianapolis           1.828051e+07\n",
       "Jacksonville           1.907188e+07\n",
       "LasVegas               3.632391e+07\n",
       "LosAngeles             3.396320e+08\n",
       "Louisville             9.461716e+06\n",
       "MiamiFtLauderdale      7.415678e+07\n",
       "Midsouth               3.518357e+08\n",
       "Nashville              2.264492e+07\n",
       "NewOrleansMobile       3.142620e+07\n",
       "NewYork                1.727400e+08\n",
       "Northeast              5.162925e+08\n",
       "NorthernNewEngland     5.762787e+07\n",
       "Orlando                4.179906e+07\n",
       "Philadelphia           4.796357e+07\n",
       "PhoenixTucson          1.567351e+08\n",
       "Pittsburgh             1.156088e+07\n",
       "Plains                 2.333412e+08\n",
       "Portland               6.104785e+07\n",
       "RaleighGreensboro      3.252605e+07\n",
       "RichmondNorfolk        2.972262e+07\n",
       "Roanoke                1.545102e+07\n",
       "Sacramento             6.618148e+07\n",
       "SanDiego               6.644925e+07\n",
       "SanFrancisco           1.209393e+08\n",
       "Seattle                5.852278e+07\n",
       "SouthCarolina          4.260060e+07\n",
       "SouthCentral           7.778872e+08\n",
       "Southeast              4.337108e+08\n",
       "Spokane                9.310900e+06\n",
       "StLouis                1.733680e+07\n",
       "Syracuse               6.750240e+06\n",
       "Tampa                  4.650785e+07\n",
       "TotalUS                4.226123e+09\n",
       "West                   7.197055e+08\n",
       "WestTexNewMexico       1.092253e+08\n",
       "Name: Total_lot, dtype: float64"
      ]
     },
     "execution_count": 23,
     "metadata": {},
     "output_type": "execute_result"
    }
   ],
   "source": [
    "data.groupby('region').sum()['Total_lot']\n",
    "# region: TotalUS"
   ]
  },
  {
   "cell_type": "code",
   "execution_count": 24,
   "metadata": {},
   "outputs": [
    {
     "data": {
      "text/plain": [
       "4226122969.340002"
      ]
     },
     "execution_count": 24,
     "metadata": {},
     "output_type": "execute_result"
    }
   ],
   "source": [
    "data.groupby('region').sum()['Total_lot'].max()\n",
    "# region: TotalUS"
   ]
  },
  {
   "cell_type": "markdown",
   "metadata": {},
   "source": [
    "### 2)Which region sold the smallest amount of avocado ?"
   ]
  },
  {
   "cell_type": "code",
   "execution_count": 26,
   "metadata": {},
   "outputs": [
    {
     "data": {
      "text/plain": [
       "10942667.680000002"
      ]
     },
     "execution_count": 26,
     "metadata": {},
     "output_type": "execute_result"
    }
   ],
   "source": [
    "data.groupby('region').sum()['Total Volume'].min()\n",
    "# region: Syracuse"
   ]
  },
  {
   "cell_type": "markdown",
   "metadata": {},
   "source": [
    "### In this region, where the smallest lot of sold avocado came from (4046, 4225, 4770) ?"
   ]
  },
  {
   "cell_type": "code",
   "execution_count": 25,
   "metadata": {},
   "outputs": [
    {
     "data": {
      "text/plain": [
       "6750240.23"
      ]
     },
     "execution_count": 25,
     "metadata": {},
     "output_type": "execute_result"
    }
   ],
   "source": [
    "data.groupby('region').sum()['Total_lot'].min()\n",
    "# region: Syracuse"
   ]
  },
  {
   "cell_type": "markdown",
   "metadata": {},
   "source": [
    "### 3) Which region sold the highest price of avocado in average ?"
   ]
  },
  {
   "cell_type": "code",
   "execution_count": 27,
   "metadata": {},
   "outputs": [
    {
     "data": {
      "text/plain": [
       "region\n",
       "Albany                 1.561036\n",
       "Atlanta                1.337959\n",
       "BaltimoreWashington    1.534231\n",
       "Boise                  1.348136\n",
       "Boston                 1.530888\n",
       "BuffaloRochester       1.516834\n",
       "California             1.395325\n",
       "Charlotte              1.606036\n",
       "Chicago                1.556775\n",
       "CincinnatiDayton       1.209201\n",
       "Columbus               1.252781\n",
       "DallasFtWorth          1.085592\n",
       "Denver                 1.218580\n",
       "Detroit                1.276095\n",
       "GrandRapids            1.505000\n",
       "GreatLakes             1.338550\n",
       "HarrisburgScranton     1.513284\n",
       "HartfordSpringfield    1.818639\n",
       "Houston                1.047929\n",
       "Indianapolis           1.313994\n",
       "Jacksonville           1.510947\n",
       "LasVegas               1.380917\n",
       "LosAngeles             1.216006\n",
       "Louisville             1.286686\n",
       "MiamiFtLauderdale      1.428491\n",
       "Midsouth               1.404763\n",
       "Nashville              1.212101\n",
       "NewOrleansMobile       1.304793\n",
       "NewYork                1.727574\n",
       "Northeast              1.601923\n",
       "NorthernNewEngland     1.477396\n",
       "Orlando                1.506213\n",
       "Philadelphia           1.632130\n",
       "PhoenixTucson          1.224438\n",
       "Pittsburgh             1.364320\n",
       "Plains                 1.436509\n",
       "Portland               1.317722\n",
       "RaleighGreensboro      1.555118\n",
       "RichmondNorfolk        1.291331\n",
       "Roanoke                1.247929\n",
       "Sacramento             1.621568\n",
       "SanDiego               1.398166\n",
       "SanFrancisco           1.804201\n",
       "Seattle                1.442574\n",
       "SouthCarolina          1.403284\n",
       "SouthCentral           1.101243\n",
       "Southeast              1.398018\n",
       "Spokane                1.445592\n",
       "StLouis                1.430621\n",
       "Syracuse               1.520325\n",
       "Tampa                  1.408846\n",
       "TotalUS                1.319024\n",
       "West                   1.272219\n",
       "WestTexNewMexico       1.261701\n",
       "Name: AveragePrice, dtype: float64"
      ]
     },
     "execution_count": 27,
     "metadata": {},
     "output_type": "execute_result"
    }
   ],
   "source": [
    "data.groupby('region').mean()['AveragePrice']"
   ]
  },
  {
   "cell_type": "code",
   "execution_count": 29,
   "metadata": {},
   "outputs": [
    {
     "data": {
      "text/plain": [
       "1.8186390532544363"
      ]
     },
     "execution_count": 29,
     "metadata": {},
     "output_type": "execute_result"
    }
   ],
   "source": [
    "data.groupby('region').mean()['AveragePrice'].max()\n",
    "# HartfordSpringfield"
   ]
  },
  {
   "cell_type": "markdown",
   "metadata": {},
   "source": [
    "### 4) Find the total amount of income ( Avg_Price Total_Volume ) of each"
   ]
  },
  {
   "cell_type": "code",
   "execution_count": 30,
   "metadata": {},
   "outputs": [
    {
     "data": {
      "text/plain": [
       "region\n",
       "Albany                 2.176672e+07\n",
       "Atlanta                9.379337e+07\n",
       "BaltimoreWashington    1.799084e+08\n",
       "Boise                  1.534667e+07\n",
       "Boston                 1.265429e+08\n",
       "BuffaloRochester       3.154509e+07\n",
       "California             1.121414e+09\n",
       "Charlotte              4.574304e+07\n",
       "Chicago                1.791106e+08\n",
       "CincinnatiDayton       4.498958e+07\n",
       "Columbus               3.156295e+07\n",
       "DallasFtWorth          1.756093e+08\n",
       "Denver                 1.459828e+08\n",
       "Detroit                6.912624e+07\n",
       "GrandRapids            3.785124e+07\n",
       "GreatLakes             6.886618e+08\n",
       "HarrisburgScranton     5.295472e+07\n",
       "HartfordSpringfield    7.118645e+07\n",
       "Houston                1.655713e+08\n",
       "Indianapolis           3.402474e+07\n",
       "Jacksonville           3.348396e+07\n",
       "LasVegas               5.480905e+07\n",
       "LosAngeles             4.842276e+08\n",
       "Louisville             1.749555e+07\n",
       "MiamiFtLauderdale      1.185815e+08\n",
       "Midsouth               6.157238e+08\n",
       "Nashville              3.572664e+07\n",
       "NewOrleansMobile       4.867626e+07\n",
       "NewYork                3.351955e+08\n",
       "Northeast              9.600079e+08\n",
       "NorthernNewEngland     8.962525e+07\n",
       "Orlando                6.961121e+07\n",
       "Philadelphia           9.981583e+07\n",
       "PhoenixTucson          1.384515e+08\n",
       "Pittsburgh             2.319481e+07\n",
       "Plains                 3.600366e+08\n",
       "Portland               1.128646e+08\n",
       "RaleighGreensboro      5.983780e+07\n",
       "RichmondNorfolk        4.734482e+07\n",
       "Roanoke                2.740928e+07\n",
       "Sacramento             9.480870e+07\n",
       "SanDiego               9.352710e+07\n",
       "SanFrancisco           1.858341e+08\n",
       "Seattle                1.251791e+08\n",
       "SouthCarolina          6.952808e+07\n",
       "SouthCentral           8.740593e+08\n",
       "Southeast              7.036306e+08\n",
       "Spokane                1.715649e+07\n",
       "StLouis                3.743946e+07\n",
       "Syracuse               1.520519e+07\n",
       "Tampa                  7.695906e+07\n",
       "TotalUS                6.387593e+09\n",
       "West                   1.066834e+09\n",
       "WestTexNewMexico       1.215654e+08\n",
       "Name: Income, dtype: float64"
      ]
     },
     "execution_count": 30,
     "metadata": {},
     "output_type": "execute_result"
    }
   ],
   "source": [
    "# data[\"Income\"] = ((data[\"AveragePrice\"] * data[\"Total Volume\"]))\n",
    "data.groupby('region').sum()['Income']"
   ]
  },
  {
   "cell_type": "markdown",
   "metadata": {},
   "source": [
    "### 5) Let AVOCADO Average Weight :4046 => 4 ounces, 4225 => 9 ounces, 4770 => 12 ounces\n",
    "#### Find the number of sold avocadoes by region ?\n"
   ]
  },
  {
   "cell_type": "code",
   "execution_count": 34,
   "metadata": {},
   "outputs": [
    {
     "data": {
      "text/plain": [
       "region\n",
       "Albany                 1.606780e+07\n",
       "Atlanta                8.860512e+07\n",
       "BaltimoreWashington    1.347139e+08\n",
       "Boise                  1.441319e+07\n",
       "Boston                 9.727398e+07\n",
       "BuffaloRochester       2.296247e+07\n",
       "California             1.028982e+09\n",
       "Charlotte              3.555554e+07\n",
       "Chicago                1.337023e+08\n",
       "CincinnatiDayton       4.452201e+07\n",
       "Columbus               2.999336e+07\n",
       "DallasFtWorth          2.084193e+08\n",
       "Denver                 1.389025e+08\n",
       "Detroit                6.342242e+07\n",
       "GrandRapids            3.021174e+07\n",
       "GreatLakes             5.896425e+08\n",
       "HarrisburgScranton     4.180886e+07\n",
       "HartfordSpringfield    5.067054e+07\n",
       "Houston                2.031679e+08\n",
       "Indianapolis           3.026339e+07\n",
       "Jacksonville           2.879000e+07\n",
       "LasVegas               5.437691e+07\n",
       "LosAngeles             5.078965e+08\n",
       "Louisville             1.609700e+07\n",
       "MiamiFtLauderdale      9.767322e+07\n",
       "Midsouth               5.083494e+08\n",
       "Nashville              3.561209e+07\n",
       "NewOrleansMobile       4.569514e+07\n",
       "NewYork                2.407341e+08\n",
       "Northeast              7.132809e+08\n",
       "NorthernNewEngland     7.153289e+07\n",
       "Orlando                5.866070e+07\n",
       "Philadelphia           7.183880e+07\n",
       "PhoenixTucson          1.956433e+08\n",
       "Pittsburgh             1.880635e+07\n",
       "Plains                 3.111885e+08\n",
       "Portland               1.105522e+08\n",
       "RaleighGreensboro      4.820273e+07\n",
       "RichmondNorfolk        4.223085e+07\n",
       "Roanoke                2.504201e+07\n",
       "Sacramento             7.516375e+07\n",
       "SanDiego               8.979192e+07\n",
       "SanFrancisco           1.358302e+08\n",
       "Seattle                1.092142e+08\n",
       "SouthCarolina          6.075377e+07\n",
       "SouthCentral           1.011280e+09\n",
       "Southeast              6.152384e+08\n",
       "Spokane                1.556528e+07\n",
       "StLouis                3.207283e+07\n",
       "Syracuse               1.094267e+07\n",
       "Tampa                  6.600454e+07\n",
       "TotalUS                5.864740e+09\n",
       "West                   1.086779e+09\n",
       "WestTexNewMexico       1.445218e+08\n",
       "Name: Total Volume, dtype: float64"
      ]
     },
     "execution_count": 34,
     "metadata": {},
     "output_type": "execute_result"
    }
   ],
   "source": [
    "data.groupby('region').sum()['Total Volume']"
   ]
  },
  {
   "cell_type": "markdown",
   "metadata": {},
   "source": [
    "#### Which region sold the largest number of avocados ?"
   ]
  },
  {
   "cell_type": "code",
   "execution_count": 33,
   "metadata": {},
   "outputs": [
    {
     "data": {
      "text/plain": [
       "region\n",
       "Albany                 5.503733e+04\n",
       "Atlanta                1.052484e+05\n",
       "BaltimoreWashington    4.213755e+06\n",
       "Boise                  1.077134e+06\n",
       "Boston                 1.684016e+06\n",
       "BuffaloRochester       4.878556e+04\n",
       "California             3.184105e+07\n",
       "Charlotte              3.913522e+06\n",
       "Chicago                1.996539e+07\n",
       "CincinnatiDayton       1.156307e+06\n",
       "Columbus               1.675076e+06\n",
       "DallasFtWorth          4.222574e+06\n",
       "Denver                 2.706165e+06\n",
       "Detroit                8.614803e+06\n",
       "GrandRapids            3.307837e+06\n",
       "GreatLakes             5.007597e+07\n",
       "HarrisburgScranton     7.434063e+04\n",
       "HartfordSpringfield    1.702536e+05\n",
       "Houston                5.455471e+06\n",
       "Indianapolis           1.391161e+06\n",
       "Jacksonville           7.342605e+04\n",
       "LasVegas               1.172357e+06\n",
       "LosAngeles             1.361869e+07\n",
       "Louisville             3.394966e+05\n",
       "MiamiFtLauderdale      1.054005e+05\n",
       "Midsouth               1.903196e+07\n",
       "Nashville              6.455284e+05\n",
       "NewOrleansMobile       2.082379e+05\n",
       "NewYork                1.746802e+06\n",
       "Northeast              6.816645e+06\n",
       "NorthernNewEngland     1.315387e+06\n",
       "Orlando                4.856253e+04\n",
       "Philadelphia           5.999311e+05\n",
       "PhoenixTucson          2.149380e+06\n",
       "Pittsburgh             2.869658e+05\n",
       "Plains                 2.494474e+06\n",
       "Portland               2.854265e+06\n",
       "RaleighGreensboro      4.027114e+06\n",
       "RichmondNorfolk        1.169414e+06\n",
       "Roanoke                2.653218e+04\n",
       "Sacramento             1.553161e+06\n",
       "SanDiego               3.108122e+06\n",
       "SanFrancisco           3.649315e+06\n",
       "Seattle                1.015345e+06\n",
       "SouthCarolina          1.558374e+06\n",
       "SouthCentral           2.239579e+07\n",
       "Southeast              3.163231e+06\n",
       "Spokane                2.802191e+05\n",
       "StLouis                2.648867e+04\n",
       "Syracuse               2.811058e+04\n",
       "Tampa                  3.898951e+04\n",
       "TotalUS                1.561752e+08\n",
       "West                   2.035607e+07\n",
       "WestTexNewMexico       2.969474e+06\n",
       "Name: 4770, dtype: float64"
      ]
     },
     "execution_count": 33,
     "metadata": {},
     "output_type": "execute_result"
    }
   ],
   "source": [
    "data.groupby('region').sum()['4770']"
   ]
  },
  {
   "cell_type": "code",
   "execution_count": 32,
   "metadata": {},
   "outputs": [
    {
     "data": {
      "text/plain": [
       "156175183.13000005"
      ]
     },
     "execution_count": 32,
     "metadata": {},
     "output_type": "execute_result"
    }
   ],
   "source": [
    "data.groupby('region').sum()['4770'].max()\n",
    "# TotalUS"
   ]
  },
  {
   "cell_type": "markdown",
   "metadata": {},
   "source": [
    "### 6) Normally, the customers buy the avocados by unit or in a bags ?"
   ]
  },
  {
   "cell_type": "code",
   "execution_count": 16,
   "metadata": {},
   "outputs": [],
   "source": [
    "# Bags"
   ]
  },
  {
   "cell_type": "markdown",
   "metadata": {},
   "source": [
    "### 7) Which month is the best time to sell avocado"
   ]
  },
  {
   "cell_type": "code",
   "execution_count": 36,
   "metadata": {},
   "outputs": [
    {
     "data": {
      "text/plain": [
       "month\n",
       "1.January      1.311019\n",
       "10.October     1.579683\n",
       "11.November    1.455563\n",
       "12.December    1.331112\n",
       "2.Febuary      1.274387\n",
       "3.March        1.332255\n",
       "4.April        1.374380\n",
       "5.May          1.346601\n",
       "6.June         1.408964\n",
       "7.July         1.462077\n",
       "8.August       1.512514\n",
       "9.September    1.572654\n",
       "Name: AveragePrice, dtype: float64"
      ]
     },
     "execution_count": 36,
     "metadata": {},
     "output_type": "execute_result"
    }
   ],
   "source": [
    "data.groupby('month').mean()['AveragePrice']"
   ]
  },
  {
   "cell_type": "code",
   "execution_count": 37,
   "metadata": {},
   "outputs": [
    {
     "data": {
      "text/plain": [
       "1.5796825396825367"
      ]
     },
     "execution_count": 37,
     "metadata": {},
     "output_type": "execute_result"
    }
   ],
   "source": [
    "data.groupby('month').mean()['AveragePrice'].max()\n",
    "# September"
   ]
  },
  {
   "cell_type": "markdown",
   "metadata": {},
   "source": [
    "### 8)Base on the data in 2015, is it true that the region which higher population can sell more avocados?"
   ]
  },
  {
   "cell_type": "code",
   "execution_count": null,
   "metadata": {},
   "outputs": [],
   "source": [
    "# Wait for Solution"
   ]
  }
 ],
 "metadata": {
  "kernelspec": {
   "display_name": "Python 3",
   "language": "python",
   "name": "python3"
  },
  "language_info": {
   "codemirror_mode": {
    "name": "ipython",
    "version": 3
   },
   "file_extension": ".py",
   "mimetype": "text/x-python",
   "name": "python",
   "nbconvert_exporter": "python",
   "pygments_lexer": "ipython3",
   "version": "3.8.5"
  }
 },
 "nbformat": 4,
 "nbformat_minor": 4
}
