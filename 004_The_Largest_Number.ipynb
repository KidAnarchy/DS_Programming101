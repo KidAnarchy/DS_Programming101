{
 "cells": [
  {
   "cell_type": "code",
   "execution_count": 1,
   "metadata": {},
   "outputs": [
    {
     "name": "stdout",
     "output_type": "stream",
     "text": [
      "The largest number\n"
     ]
    }
   ],
   "source": [
    "### Homework2: Largest Formed Number\n",
    "### Write a program that accepts a list of non negative integers, arranges them such that they form a largest possible number.\n",
    "\n",
    "# Nattawat Wattanawiput # ID:640631031  #\n",
    "\n",
    "\n",
    "print('Largest Formed Number')\n",
    "\n",
    "# player will input n amount of number and input number.\n",
    "print('\\nHow many number that you want to play?')\n",
    "n = int(input())\n",
    "d = []\n",
    "for k in range(n):\n",
    "    print('Please type No.',k+1,'number')\n",
    "    d.append( int(input()) )\n",
    "print('Your',n,'number are:',d)\n",
    "\n",
    "# Sort in descending order.\n",
    "d.sort(reverse=True)\n",
    "t = []\n",
    "for e in d :\n",
    "    t.append(str(e))\n",
    "\n",
    "# Combination descending list to 1 big number.\n",
    "t1=(''.join(t))\n",
    "\n",
    "# Separate big number it digits in formed lists.\n",
    "t2 = [int(digit) for digit in str(t1)]\n",
    "\n",
    "# Sort in descending order again.\n",
    "t2.sort(reverse=True)\n",
    "z = []\n",
    "for f in t2 :\n",
    "    z.append(str(f))\n",
    "\n",
    "# Recombination and print out the result.\n",
    "print('\\nThe largest formed number is:')\n",
    "print(''.join(z))"
   ]
  },
  {
   "cell_type": "code",
   "execution_count": null,
   "metadata": {},
   "outputs": [],
   "source": []
  },
  {
   "cell_type": "code",
   "execution_count": null,
   "metadata": {},
   "outputs": [],
   "source": []
  },
  {
   "cell_type": "code",
   "execution_count": null,
   "metadata": {},
   "outputs": [],
   "source": []
  },
  {
   "cell_type": "code",
   "execution_count": null,
   "metadata": {},
   "outputs": [],
   "source": []
  },
  {
   "cell_type": "code",
   "execution_count": null,
   "metadata": {},
   "outputs": [],
   "source": []
  }
 ],
 "metadata": {
  "kernelspec": {
   "display_name": "Python 3",
   "language": "python",
   "name": "python3"
  },
  "language_info": {
   "codemirror_mode": {
    "name": "ipython",
    "version": 3
   },
   "file_extension": ".py",
   "mimetype": "text/x-python",
   "name": "python",
   "nbconvert_exporter": "python",
   "pygments_lexer": "ipython3",
   "version": "3.8.5"
  }
 },
 "nbformat": 4,
 "nbformat_minor": 4
}
