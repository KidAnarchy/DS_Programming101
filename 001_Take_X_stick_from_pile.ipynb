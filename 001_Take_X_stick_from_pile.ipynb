{
 "cells": [
  {
   "cell_type": "code",
   "execution_count": 38,
   "metadata": {},
   "outputs": [
    {
     "name": "stdout",
     "output_type": "stream",
     "text": [
      "How many sticks (N) in the pile:3\n",
      "There are 3 sticks in the pile.\n",
      "What is your name :S\n",
      "S , how many sticks you will take (1 or 2):\n",
      "2\n",
      "There are 1 sticks in the pile.\n",
      "T= 1\n",
      "\n",
      "--------------------------------------------\n",
      "S , how many sticks you will take (1 or 2):\n",
      "3\n",
      "No you cannot take more than 2 sticks!\n",
      "There are 1 sticks in the pile.\n",
      "T= 1\n",
      "\n",
      "--------------------------------------------\n",
      "S , how many sticks you will take (1 or 2):\n",
      "-1\n",
      "No you cannot take less than 1 stick!\n",
      "There are 1 sticks in the pile.\n",
      "T= 1\n",
      "\n",
      "--------------------------------------------\n",
      "S , how many sticks you will take (1 or 2):\n",
      "2\n",
      "There are no enough sticks to take.\n",
      "There are 1 sticks in the pile.\n",
      "T= 1\n",
      "\n",
      "--------------------------------------------\n",
      "S , how many sticks you will take (1 or 2):\n",
      "1\n",
      "OK. There is no stick left in the pile. You spent 2 times.\n"
     ]
    }
   ],
   "source": [
    "# 001_Take_X_stick_from_pile\n",
    "\n",
    "N = int(input(\"How many sticks (N) in the pile:\"))\n",
    "print('There are', N, 'sticks in the pile.')\n",
    "name = str(input('What is your name :'))\n",
    "\n",
    "# X is amount of stick\n",
    "T = 0 # T is time to take a pile.\n",
    "for X in range(10,0,-1):\n",
    "    T = T + 1\n",
    "    print(name,',','how many sticks you will take (1 or 2):')\n",
    "    X = int(input())\n",
    "    \n",
    "    if X >=3:\n",
    "        print(\"No you cannot take more than 2 sticks!\")\n",
    "        T = T - 1\n",
    "        \n",
    "    elif 1<= X <3:\n",
    "        if X == 2:\n",
    "            N = N - X  \n",
    "            if N == 0:\n",
    "                print ('OK. There is no stick left in the pile. You spent',T ,'times.')\n",
    "                break\n",
    "            elif N<0:\n",
    "                T = T - 1\n",
    "                print('There are no enough sticks to take.')\n",
    "                N = X + N\n",
    "        elif X == 1:\n",
    "            N = N - X\n",
    "            if N<=0:\n",
    "                print ('OK. There is no stick left in the pile. You spent',T ,'times.')\n",
    "                break       \n",
    "        \n",
    "    else:\n",
    "        print(\"No you cannot take less than 1 stick!\")\n",
    "        T = T - 1\n",
    "        \n",
    "    print('There are', N, 'sticks in the pile.')\n",
    "    # print('T=',T) #for visit How many time to take stick in pile?(Not use)\n",
    "    print('\\n--------------------------------------------')\n",
    "    "
   ]
  }
 ],
 "metadata": {
  "kernelspec": {
   "display_name": "Python 3",
   "language": "python",
   "name": "python3"
  },
  "language_info": {
   "codemirror_mode": {
    "name": "ipython",
    "version": 3
   },
   "file_extension": ".py",
   "mimetype": "text/x-python",
   "name": "python",
   "nbconvert_exporter": "python",
   "pygments_lexer": "ipython3",
   "version": "3.8.5"
  }
 },
 "nbformat": 4,
 "nbformat_minor": 4
}
