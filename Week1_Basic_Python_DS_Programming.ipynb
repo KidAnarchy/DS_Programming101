{
 "cells": [
  {
   "cell_type": "markdown",
   "metadata": {},
   "source": [
    "# Week1_Basic_Python_DS_Programming"
   ]
  },
  {
   "cell_type": "markdown",
   "metadata": {
    "id": "eUERmhcKPa1g"
   },
   "source": [
    "# Expression "
   ]
  },
  {
   "cell_type": "code",
   "execution_count": null,
   "metadata": {
    "id": "2ViZQ1DaPlCm"
   },
   "outputs": [],
   "source": [
    "# expression : A data value or set of operations to compute a value."
   ]
  },
  {
   "cell_type": "code",
   "execution_count": 1,
   "metadata": {
    "colab": {
     "base_uri": "https://localhost:8080/",
     "height": 0
    },
    "id": "A_oR10eqPlFL",
    "outputId": "d28310e5-51b8-469c-89d0-e111e3bdd231"
   },
   "outputs": [
    {
     "data": {
      "text/plain": [
       "13"
      ]
     },
     "execution_count": 1,
     "metadata": {
      "tags": []
     },
     "output_type": "execute_result"
    }
   ],
   "source": [
    "1 + 3 * 4"
   ]
  },
  {
   "cell_type": "code",
   "execution_count": null,
   "metadata": {
    "id": "BA_JH6qJPlJ_"
   },
   "outputs": [],
   "source": [
    "# Order in which operations are computed.\n",
    "# Parentheses can be used to force a certain order of evaluation."
   ]
  },
  {
   "cell_type": "code",
   "execution_count": 2,
   "metadata": {
    "colab": {
     "base_uri": "https://localhost:8080/",
     "height": 0
    },
    "id": "Fcxd04rvPlMc",
    "outputId": "778ddead-4671-4590-c9b2-b70208ee72e2"
   },
   "outputs": [
    {
     "data": {
      "text/plain": [
       "16"
      ]
     },
     "execution_count": 2,
     "metadata": {
      "tags": []
     },
     "output_type": "execute_result"
    }
   ],
   "source": [
    "(1+3)*4"
   ]
  },
  {
   "cell_type": "code",
   "execution_count": null,
   "metadata": {
    "id": "GMrOtNSmPlO_"
   },
   "outputs": [],
   "source": [
    "# When we divide integers with / , the quotient is also an integer."
   ]
  },
  {
   "cell_type": "code",
   "execution_count": 3,
   "metadata": {
    "colab": {
     "base_uri": "https://localhost:8080/",
     "height": 0
    },
    "id": "j5I_kMpSPlTr",
    "outputId": "1cf9a3b5-cd50-4d55-832b-a85bc2ba75db"
   },
   "outputs": [
    {
     "data": {
      "text/plain": [
       "5.0"
      ]
     },
     "execution_count": 3,
     "metadata": {
      "tags": []
     },
     "output_type": "execute_result"
    }
   ],
   "source": [
    "35/7"
   ]
  },
  {
   "cell_type": "code",
   "execution_count": 4,
   "metadata": {
    "colab": {
     "base_uri": "https://localhost:8080/",
     "height": 0
    },
    "id": "GonV6qgkPlW5",
    "outputId": "c4f775f6-fb26-4e5b-ebc6-f30685495887"
   },
   "outputs": [
    {
     "data": {
      "text/plain": [
       "8.4"
      ]
     },
     "execution_count": 4,
     "metadata": {
      "tags": []
     },
     "output_type": "execute_result"
    }
   ],
   "source": [
    "84/10"
   ]
  },
  {
   "cell_type": "code",
   "execution_count": null,
   "metadata": {
    "id": "j64NOEx4PlZo"
   },
   "outputs": [],
   "source": [
    "# Modulo The % operator computes the remainder from a division of integers. จะได้เศษ จากการหาร"
   ]
  },
  {
   "cell_type": "code",
   "execution_count": 5,
   "metadata": {
    "colab": {
     "base_uri": "https://localhost:8080/",
     "height": 0
    },
    "id": "30jIm7xrPlco",
    "outputId": "ca50684b-ee07-43b6-c982-4697f995dc99"
   },
   "outputs": [
    {
     "data": {
      "text/plain": [
       "2"
      ]
     },
     "execution_count": 5,
     "metadata": {
      "tags": []
     },
     "output_type": "execute_result"
    }
   ],
   "source": [
    "14%4"
   ]
  },
  {
   "cell_type": "markdown",
   "metadata": {
    "id": "MjjqV6ZYRLQc"
   },
   "source": [
    "# Real Numbers"
   ]
  },
  {
   "cell_type": "code",
   "execution_count": null,
   "metadata": {
    "id": "X3TGyIviRLTH"
   },
   "outputs": [],
   "source": [
    "# The same rules of precedence also apply to real numbers:  Evaluate ( ) before * / % before +"
   ]
  },
  {
   "cell_type": "code",
   "execution_count": 6,
   "metadata": {
    "colab": {
     "base_uri": "https://localhost:8080/",
     "height": 0
    },
    "id": "AcVEr6W7RLVh",
    "outputId": "bcfdf761-feef-41e3-80a8-4070a70ab69a"
   },
   "outputs": [
    {
     "data": {
      "text/plain": [
       "4.300000000000001"
      ]
     },
     "execution_count": 6,
     "metadata": {
      "tags": []
     },
     "output_type": "execute_result"
    }
   ],
   "source": [
    "7/3 * 1.2 + 3/2 "
   ]
  },
  {
   "cell_type": "code",
   "execution_count": 7,
   "metadata": {
    "colab": {
     "base_uri": "https://localhost:8080/",
     "height": 0
    },
    "id": "Bfg9UwSKRLYC",
    "outputId": "bef5c4b8-3600-49ec-a091-8087cdf94ef3"
   },
   "outputs": [
    {
     "data": {
      "text/plain": [
       "4.300000000000001"
      ]
     },
     "execution_count": 7,
     "metadata": {
      "tags": []
     },
     "output_type": "execute_result"
    }
   ],
   "source": [
    "((7/3)*1.2)+(3/2)"
   ]
  },
  {
   "cell_type": "code",
   "execution_count": null,
   "metadata": {
    "id": "WD3Vi1zTRLav"
   },
   "outputs": [],
   "source": [
    "# variable : A named piece of memory that can store a value."
   ]
  },
  {
   "cell_type": "code",
   "execution_count": 8,
   "metadata": {
    "id": "H7htrrdTRLdU"
   },
   "outputs": [],
   "source": [
    "x = 5\n",
    "gpa = 3.14"
   ]
  },
  {
   "cell_type": "code",
   "execution_count": 10,
   "metadata": {
    "colab": {
     "base_uri": "https://localhost:8080/",
     "height": 0
    },
    "id": "r3931Ew6RLgN",
    "outputId": "54d2fb8a-4776-4bc2-a510-c7c45ef75e84"
   },
   "outputs": [
    {
     "data": {
      "text/plain": [
       "9"
      ]
     },
     "execution_count": 10,
     "metadata": {
      "tags": []
     },
     "output_type": "execute_result"
    }
   ],
   "source": [
    "# A variable that has been given a value can be used in expressions.\n",
    "x + 4 "
   ]
  },
  {
   "cell_type": "code",
   "execution_count": null,
   "metadata": {
    "id": "IXIukA7RSRum"
   },
   "outputs": [],
   "source": [
    "# print : Produces text output on the"
   ]
  },
  {
   "cell_type": "code",
   "execution_count": 11,
   "metadata": {
    "colab": {
     "base_uri": "https://localhost:8080/",
     "height": 0
    },
    "id": "0A1iYQkhSRxU",
    "outputId": "05cd6835-d1a7-4ecc-be52-aef4cb640f95"
   },
   "outputs": [
    {
     "name": "stdout",
     "output_type": "stream",
     "text": [
      "Hello, world!\n",
      "You have 20 years until retirement\n"
     ]
    }
   ],
   "source": [
    "# Syntax:\n",
    "# Examples:\n",
    "print (\"Hello, world!\")\n",
    "age =40\n",
    "print (\"You have\",60 - age, \"years until retirement\")"
   ]
  },
  {
   "cell_type": "markdown",
   "metadata": {
    "id": "d7EBd5coSR2l"
   },
   "source": [
    "# input : Reads a number from user\n"
   ]
  },
  {
   "cell_type": "code",
   "execution_count": 13,
   "metadata": {
    "colab": {
     "base_uri": "https://localhost:8080/",
     "height": 0
    },
    "id": "dTxIjvl9SR4s",
    "outputId": "7761b722-445e-42dd-b487-afc367d22953"
   },
   "outputs": [
    {
     "name": "stdout",
     "output_type": "stream",
     "text": [
      "How old are you? 53\n",
      "Your age is 53\n",
      "You have 12 years until retirement\n"
     ]
    }
   ],
   "source": [
    "# Example:\n",
    "age = int(input(\"How old are you? \"))\n",
    "print (\"Your age is\", age)\n",
    "print (\"You have\", 65-age, \"years until retirement\")"
   ]
  },
  {
   "cell_type": "markdown",
   "metadata": {
    "id": "P1QtLFeYSSAT"
   },
   "source": [
    "# The for loop\n",
    "\n",
    "# for loop : Repeats a set of statements over a group of value."
   ]
  },
  {
   "cell_type": "code",
   "execution_count": 16,
   "metadata": {
    "colab": {
     "base_uri": "https://localhost:8080/",
     "height": 0
    },
    "id": "JJA0uA6OSSCb",
    "outputId": "76c1b572-b143-418b-b659-82e67f8e31a8"
   },
   "outputs": [
    {
     "name": "stdout",
     "output_type": "stream",
     "text": [
      "1 squared is 1\n",
      "2 squared is 4\n",
      "3 squared is 9\n",
      "4 squared is 16\n",
      "5 squared is 25\n"
     ]
    }
   ],
   "source": [
    "# Example:\n",
    "for x in range(1, 6):\n",
    "    print(x, \"squared is\", x * x)"
   ]
  },
  {
   "cell_type": "markdown",
   "metadata": {
    "id": "L2FYSqpSSSH9"
   },
   "source": [
    "# Range"
   ]
  },
  {
   "cell_type": "code",
   "execution_count": null,
   "metadata": {
    "id": "I6GJM0DJUiXv"
   },
   "outputs": [],
   "source": [
    "# range( start , stop) the integers between start (inclusive) and stop (exclusive)\n",
    "\n",
    "# 3rd value\n",
    "# range( start , stop, step) the integers between start (inclusive) and stop (exclusive) by step"
   ]
  },
  {
   "cell_type": "code",
   "execution_count": 25,
   "metadata": {
    "colab": {
     "base_uri": "https://localhost:8080/",
     "height": 0
    },
    "id": "YqIH6pBuVQop",
    "outputId": "9b0c8832-7435-4cc0-bb2f-a751d3fcfde1"
   },
   "outputs": [
    {
     "name": "stdout",
     "output_type": "stream",
     "text": [
      "1\n"
     ]
    }
   ],
   "source": [
    "#Example:\n",
    "for x in range(5, 0):\n",
    "    print (x)\n",
    "print (x)"
   ]
  },
  {
   "cell_type": "code",
   "execution_count": 19,
   "metadata": {
    "colab": {
     "base_uri": "https://localhost:8080/",
     "height": 0
    },
    "id": "RSRO3P21SSKx",
    "outputId": "9cb36820-52d2-4036-b41d-74496b28efb6"
   },
   "outputs": [
    {
     "name": "stdout",
     "output_type": "stream",
     "text": [
      "5\n",
      "4\n",
      "3\n",
      "2\n",
      "1\n",
      "Blastoff!\n"
     ]
    }
   ],
   "source": [
    "#Example:\n",
    "for x in range(5, 0,-1):\n",
    "    print (x)\n",
    "print (\"Blastoff!\")"
   ]
  },
  {
   "cell_type": "markdown",
   "metadata": {
    "id": "_RClAn03SSQN"
   },
   "source": [
    "# Cumulative loops\n",
    "\n",
    "# Some loops incrementally compute a value that is initialized outside the loop. This is sometimes called a cumulative sum"
   ]
  },
  {
   "cell_type": "code",
   "execution_count": 27,
   "metadata": {
    "colab": {
     "base_uri": "https://localhost:8080/",
     "height": 0
    },
    "id": "MsAuyFDORLlj",
    "outputId": "7f731f5a-06e9-46c7-8f83-ce68ba6cea34"
   },
   "outputs": [
    {
     "name": "stdout",
     "output_type": "stream",
     "text": [
      "sum of first 5 squares is 55\n"
     ]
    }
   ],
   "source": [
    "sum = 0\n",
    "for i in range(1, 6):\n",
    "    sum = sum + (i * i)\n",
    "print (\"sum of first\", i ,\"squares is\", sum)"
   ]
  },
  {
   "cell_type": "code",
   "execution_count": null,
   "metadata": {
    "id": "SvM0sFbaRLoB"
   },
   "outputs": [],
   "source": [
    "# 1*1=1\n",
    "# 2*2=4\n",
    "# 3*3=9\n",
    "# 4*4=16\n",
    "# 5*5=25\n",
    "# 1+4+9+16+25=55"
   ]
  },
  {
   "cell_type": "code",
   "execution_count": null,
   "metadata": {
    "id": "z2hO8Y4iRLqy"
   },
   "outputs": [],
   "source": []
  },
  {
   "cell_type": "markdown",
   "metadata": {
    "id": "Fd6UVfkfXLVE"
   },
   "source": [
    "# If\n",
    "\n",
    "# if statement : Executes a group of statements only if a certain condition is true. Otherwise, the statements are skipped."
   ]
  },
  {
   "cell_type": "code",
   "execution_count": 29,
   "metadata": {
    "colab": {
     "base_uri": "https://localhost:8080/",
     "height": 0
    },
    "id": "viNfIvPOXLXe",
    "outputId": "af7a409d-a80e-48c2-a08a-cd7a4c0183d5"
   },
   "outputs": [
    {
     "name": "stdout",
     "output_type": "stream",
     "text": [
      "Your application is accepted.\n"
     ]
    }
   ],
   "source": [
    "# Example:\n",
    "gpa = 3.4\n",
    "if gpa > 2.0:\n",
    "    print (\"Your application is accepted.\")"
   ]
  },
  {
   "cell_type": "code",
   "execution_count": 32,
   "metadata": {
    "colab": {
     "base_uri": "https://localhost:8080/",
     "height": 0
    },
    "id": "6Qjipk5SXLZz",
    "outputId": "a0777c7c-bc2e-4b93-8976-dc60b3c682ee"
   },
   "outputs": [
    {
     "name": "stdout",
     "output_type": "stream",
     "text": [
      "gpa3.95\n",
      "Your application is accepted.\n"
     ]
    }
   ],
   "source": [
    "gpa =float(input(\"gpa\"))\n",
    "if gpa > 2.0:\n",
    "    print (\"Your application is accepted.\")"
   ]
  },
  {
   "cell_type": "markdown",
   "metadata": {
    "id": "WxiDT-YVXLhy"
   },
   "source": [
    "# If  / Else\n",
    "\n",
    "# if/else statement : Executes one block of statements if a certain condition is True, and a second block of statements if it is False."
   ]
  },
  {
   "cell_type": "code",
   "execution_count": 34,
   "metadata": {
    "colab": {
     "base_uri": "https://localhost:8080/",
     "height": 0
    },
    "id": "qxjV5WqgXLoT",
    "outputId": "7e6abfd7-c630-44b0-f904-7833551f982f"
   },
   "outputs": [
    {
     "name": "stdout",
     "output_type": "stream",
     "text": [
      "Your application is denied.\n"
     ]
    }
   ],
   "source": [
    "#Example:\n",
    "gpa =1.4\n",
    "if gpa >2.0:\n",
    "    print (\"Welcome to CMU University!\")\n",
    "else:\n",
    "    print (\"Your application is denied.\")"
   ]
  },
  {
   "cell_type": "code",
   "execution_count": 35,
   "metadata": {
    "colab": {
     "base_uri": "https://localhost:8080/",
     "height": 0
    },
    "id": "nZSMC-eKXL0O",
    "outputId": "6a3591b1-0678-4121-b630-a217549e0f3d"
   },
   "outputs": [
    {
     "name": "stdout",
     "output_type": "stream",
     "text": [
      "GPA=3.2\n",
      "Welcome to CMU University!\n"
     ]
    }
   ],
   "source": [
    "gpa =float(input(\"GPA=\"))\n",
    "if gpa >2.0:\n",
    "    print (\"Welcome to CMU University!\")\n",
    "else:\n",
    "    print (\"Your application is denied.\")"
   ]
  },
  {
   "cell_type": "markdown",
   "metadata": {
    "id": "Di6aEHKDXNC9"
   },
   "source": [
    "# While loop\n",
    "\n",
    "# while loop : Executes a group of statements as long as a condition is True. good for indefinite loops (repeat an unknown number of time)"
   ]
  },
  {
   "cell_type": "code",
   "execution_count": 39,
   "metadata": {
    "colab": {
     "base_uri": "https://localhost:8080/",
     "height": 0
    },
    "id": "Rwr1DwzqXNFj",
    "outputId": "6d91a020-14d2-46a4-db12-debf0668e7ef"
   },
   "outputs": [
    {
     "name": "stdout",
     "output_type": "stream",
     "text": [
      "1\n",
      "2\n",
      "4\n",
      "8\n",
      "16\n",
      "32\n",
      "64\n",
      "128\n"
     ]
    }
   ],
   "source": [
    "#Example:\n",
    "number = 1\n",
    "while number < 200:\n",
    "    print (number)\n",
    "    number = number * 2"
   ]
  },
  {
   "cell_type": "markdown",
   "metadata": {
    "id": "riHZMOmiZNkZ"
   },
   "source": [
    "# Logic Operators"
   ]
  },
  {
   "cell_type": "markdown",
   "metadata": {
    "id": "V4nrKOqPZNpT"
   },
   "source": [
    "# string\n",
    "\n",
    "# string : A sequence of text characters in a program."
   ]
  },
  {
   "cell_type": "code",
   "execution_count": 40,
   "metadata": {
    "colab": {
     "base_uri": "https://localhost:8080/",
     "height": 35
    },
    "id": "ZBLfN_x7ZNr2",
    "outputId": "21084716-9a17-4c9d-9838-02878a63da8a"
   },
   "outputs": [
    {
     "data": {
      "application/vnd.google.colaboratory.intrinsic+json": {
       "type": "string"
      },
      "text/plain": [
       "'This, too, is a string. It can be very'"
      ]
     },
     "execution_count": 40,
     "metadata": {
      "tags": []
     },
     "output_type": "execute_result"
    }
   ],
   "source": [
    "\"This is a string\"\n",
    "\"This, too, is a string. It can be very\""
   ]
  },
  {
   "cell_type": "code",
   "execution_count": 44,
   "metadata": {
    "colab": {
     "base_uri": "https://localhost:8080/",
     "height": 35
    },
    "id": "TSXiIyEZZNt8",
    "outputId": "8f67553f-90ef-4a0e-d1c2-1f106e64c9f2"
   },
   "outputs": [
    {
     "data": {
      "application/vnd.google.colaboratory.intrinsic+json": {
       "type": "string"
      },
      "text/plain": [
       "'Hello\\tthere\\nHow are you?'"
      ]
     },
     "execution_count": 44,
     "metadata": {
      "tags": []
     },
     "output_type": "execute_result"
    }
   ],
   "source": [
    "'Hello\\tthere\\nHow are you?'"
   ]
  },
  {
   "cell_type": "markdown",
   "metadata": {
    "id": "B-idA3-hZNys"
   },
   "source": [
    "# Indexes"
   ]
  },
  {
   "cell_type": "code",
   "execution_count": null,
   "metadata": {
    "id": "B-idA3-hZNys"
   },
   "outputs": [],
   "source": [
    "# Characters in a string are numbered with indexes starting at 0:\n",
    "# Accessing an individual character of a string: variableName index\n",
    "# Accessing an individual character of a string: variableName [index]"
   ]
  },
  {
   "cell_type": "code",
   "execution_count": 45,
   "metadata": {
    "colab": {
     "base_uri": "https://localhost:8080/"
    },
    "id": "stVFoKINZN1R",
    "outputId": "a46fbcc8-3b64-4bc7-ee8a-12c56737bb77"
   },
   "outputs": [
    {
     "name": "stdout",
     "output_type": "stream",
     "text": [
      "P. Diddy starts with P\n"
     ]
    }
   ],
   "source": [
    "name = \"P. Diddy\"\n",
    "print (name, \"starts with\",name[0])"
   ]
  },
  {
   "cell_type": "code",
   "execution_count": null,
   "metadata": {
    "id": "suIXBs49ZN30"
   },
   "outputs": [],
   "source": []
  },
  {
   "cell_type": "markdown",
   "metadata": {
    "id": "ikuzaONbZN6Z"
   },
   "source": [
    "# String properties"
   ]
  },
  {
   "cell_type": "code",
   "execution_count": null,
   "metadata": {
    "id": "ikuzaONbZN6Z"
   },
   "outputs": [],
   "source": [
    "#len( string)      - number of characters in a string (including spaces)\n",
    "#str.lower( string )   -lowercase version of a string\n",
    "#str.upper( string)   - uppercase version of a string"
   ]
  },
  {
   "cell_type": "code",
   "execution_count": 46,
   "metadata": {
    "colab": {
     "base_uri": "https://localhost:8080/"
    },
    "id": "_J9WuXf9ZN9C",
    "outputId": "4c48f157-7c8f-457d-bcf2-192c3993df8e"
   },
   "outputs": [
    {
     "name": "stdout",
     "output_type": "stream",
     "text": [
      "MARTIN DOUGLAS STEPP has 20 characters\n"
     ]
    }
   ],
   "source": [
    "# Example:\n",
    "name = \"Martin Douglas Stepp\"\n",
    "length = len(name)\n",
    "big_name = str.upper(name)\n",
    "print (big_name, \"has\", length, \"characters\")"
   ]
  },
  {
   "cell_type": "markdown",
   "metadata": {
    "id": "2_4eovLsgfqj"
   },
   "source": [
    "# String input"
   ]
  },
  {
   "cell_type": "code",
   "execution_count": null,
   "metadata": {
    "id": "2_4eovLsgfqj"
   },
   "outputs": [],
   "source": [
    "#input : Reads a string of text from user"
   ]
  },
  {
   "cell_type": "code",
   "execution_count": 47,
   "metadata": {
    "colab": {
     "base_uri": "https://localhost:8080/"
    },
    "id": "8CJhZHmMgfs7",
    "outputId": "c1579299-6075-4b8c-f6bc-e4532b617cc4"
   },
   "outputs": [
    {
     "name": "stdout",
     "output_type": "stream",
     "text": [
      "Howdy, pardner. What's yer name? Gumpoo JKN\n",
      "Gumpoo JKN ... what a silly name!\n"
     ]
    }
   ],
   "source": [
    "# Example:\n",
    "name = input(\"Howdy, pardner. What's yer name? \")\n",
    "print (name, \"... what a silly name!\")"
   ]
  },
  {
   "cell_type": "markdown",
   "metadata": {
    "id": "Hpd3oB7LgfxX"
   },
   "source": [
    "# Text processing"
   ]
  },
  {
   "cell_type": "code",
   "execution_count": null,
   "metadata": {
    "id": "Hpd3oB7LgfxX"
   },
   "outputs": [],
   "source": [
    "# text processing : Examining, editing, formatting often uses loops that examine the characters of a string one by one"
   ]
  },
  {
   "cell_type": "code",
   "execution_count": 50,
   "metadata": {
    "colab": {
     "base_uri": "https://localhost:8080/"
    },
    "id": "jJ0WQ8lLgfz2",
    "outputId": "8fc5c5d3-a04f-44af-f55f-31f431cff991"
   },
   "outputs": [
    {
     "name": "stdout",
     "output_type": "stream",
     "text": [
      "b\n",
      "o\n",
      "o\n",
      "y\n",
      "a\n",
      "h\n"
     ]
    }
   ],
   "source": [
    "# Example:\n",
    "for c in \"booyah\":\n",
    "      print (c)"
   ]
  },
  {
   "cell_type": "markdown",
   "metadata": {
    "id": "mw2WCrk_gf8k"
   },
   "source": [
    "# Strings and numbers"
   ]
  },
  {
   "cell_type": "code",
   "execution_count": null,
   "metadata": {
    "id": "mw2WCrk_gf8k"
   },
   "outputs": [],
   "source": [
    "# ord( text)        converts a string into a number.\n",
    "# chr( number )     converts a number into a string."
   ]
  },
  {
   "cell_type": "code",
   "execution_count": 51,
   "metadata": {
    "colab": {
     "base_uri": "https://localhost:8080/"
    },
    "id": "QgK3mCUHgf-c",
    "outputId": "3233e9ba-a0be-41f1-f9f6-7181c69bcf84"
   },
   "outputs": [
    {
     "data": {
      "text/plain": [
       "97"
      ]
     },
     "execution_count": 51,
     "metadata": {
      "tags": []
     },
     "output_type": "execute_result"
    }
   ],
   "source": [
    "ord('a')"
   ]
  },
  {
   "cell_type": "code",
   "execution_count": 54,
   "metadata": {
    "colab": {
     "base_uri": "https://localhost:8080/",
     "height": 35
    },
    "id": "IHYB7WrHggBE",
    "outputId": "1e5196e7-ea4d-4d71-8db3-a91df3ba0842"
   },
   "outputs": [
    {
     "data": {
      "application/vnd.google.colaboratory.intrinsic+json": {
       "type": "string"
      },
      "text/plain": [
       "'c'"
      ]
     },
     "execution_count": 54,
     "metadata": {
      "tags": []
     },
     "output_type": "execute_result"
    }
   ],
   "source": [
    "chr(99)"
   ]
  }
 ],
 "metadata": {
  "colab": {
   "collapsed_sections": [],
   "name": "Basic Python:DS Programming.ipynb",
   "provenance": []
  },
  "kernelspec": {
   "display_name": "Python 3",
   "language": "python",
   "name": "python3"
  },
  "language_info": {
   "codemirror_mode": {
    "name": "ipython",
    "version": 3
   },
   "file_extension": ".py",
   "mimetype": "text/x-python",
   "name": "python",
   "nbconvert_exporter": "python",
   "pygments_lexer": "ipython3",
   "version": "3.8.5"
  }
 },
 "nbformat": 4,
 "nbformat_minor": 1
}
